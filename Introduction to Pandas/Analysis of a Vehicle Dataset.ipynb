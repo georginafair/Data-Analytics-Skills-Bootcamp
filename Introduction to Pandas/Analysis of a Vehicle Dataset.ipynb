{
 "cells": [
  {
   "cell_type": "markdown",
   "metadata": {},
   "source": [
    "# Vehicle Dataset"
   ]
  },
  {
   "cell_type": "markdown",
   "metadata": {},
   "source": [
    "KATE expects your code to define variables with specific names that correspond to certain things we are interested in.\n",
    "\n",
    "KATE will run your notebook from top to bottom and check the latest value of those variables, so make sure you don't overwrite them.\n",
    "\n",
    "* Remember to uncomment the line assigning the variable to your answer and don't change the variable or function names.\n",
    "* Use copies of the original or previous DataFrames to make sure you do not overwrite them by mistake.\n",
    "\n",
    "You will find instructions below about how to define each variable.\n",
    "\n",
    "Once you're happy with your code, upload your notebook to KATE to check your feedback."
   ]
  },
  {
   "cell_type": "code",
   "execution_count": 1,
   "metadata": {
    "inputHidden": false,
    "outputHidden": false
   },
   "outputs": [],
   "source": [
    "import pandas as pd"
   ]
  },
  {
   "cell_type": "markdown",
   "metadata": {},
   "source": [
    "First, we will load the dataset from `data/cars.csv` into a DataFrame."
   ]
  },
  {
   "cell_type": "code",
   "execution_count": 2,
   "metadata": {},
   "outputs": [],
   "source": [
    "df = pd.read_csv('data/cars.csv')\n",
    "df.head()"
   ]
  },
  {
   "cell_type": "markdown",
   "metadata": {},
   "source": [
    "## Dataset stats\n",
    "\n",
    "#### 1. What's the mean of the values in the `weight` column?\n",
    "\n",
    "Store the answer in a variable called `mean_weight`"
   ]
  },
  {
   "cell_type": "code",
   "execution_count": 3,
   "metadata": {},
   "outputs": [],
   "source": [
    "# Add your code below\n",
    "\n",
    "mean_weight = df['weight'].mean()\n",
    "mean_weight\n"
   ]
  },
  {
   "cell_type": "markdown",
   "metadata": {},
   "source": [
    "#### 2. What's the maximum value in the `horsepower` column?\n",
    "\n",
    "Store the answer in a variable called `max_horsepower`"
   ]
  },
  {
   "cell_type": "code",
   "execution_count": 21,
   "metadata": {},
   "outputs": [],
   "source": [
    "# Add your code below\n",
    "\n",
    "max_horsepower = df['horsepower'].max()\n",
    "max_horsepower\n"
   ]
  },
  {
   "cell_type": "markdown",
   "metadata": {},
   "source": [
    "#### 3. How many cars have a `weight` of equal to or greater than 3500 ?\n",
    "\n",
    "Store the answer in a variable called `heavy_cars`"
   ]
  },
  {
   "cell_type": "code",
   "execution_count": 22,
   "metadata": {},
   "outputs": [],
   "source": [
    "# Add your code below\n",
    "\n",
    "heavy_cars = len(df[df['weight'] >= 3500])\n",
    "heavy_cars\n"
   ]
  },
  {
   "cell_type": "markdown",
   "metadata": {},
   "source": [
    "#### 4. Create a new DataFrame with an additional column called `ratio`, which equals `horsepower` divided by `weight`\n",
    "\n",
    "Call the new DataFrame `df_ratio`"
   ]
  },
  {
   "cell_type": "code",
   "execution_count": 6,
   "metadata": {
    "scrolled": true
   },
   "outputs": [],
   "source": [
    "# We made a copy of df to start with, so you don't risk modifying the original df\n",
    "\n",
    "df_ratio = df.copy()\n",
    "df_ratio['ratio'] = df_ratio['horsepower'] / df_ratio['weight']\n",
    "df_ratio\n"
   ]
  },
  {
   "cell_type": "markdown",
   "metadata": {},
   "source": [
    "## Dataset sorting and filtering"
   ]
  },
  {
   "cell_type": "markdown",
   "metadata": {},
   "source": [
    "#### 5. Create a new DataFrame containing only cars with an `origin` of 'usa'\n",
    "\n",
    "We'll start with a copy of the original DataFrame to avoid modifying the original. Call the new DataFrame `df_usa`"
   ]
  },
  {
   "cell_type": "code",
   "execution_count": 7,
   "metadata": {},
   "outputs": [],
   "source": [
    "# Add your code below\n",
    "\n",
    "df_usa = df.copy()\n",
    "df_usa = df_usa[df_usa['origin'] == 'usa']\n",
    "df_usa\n"
   ]
  },
  {
   "cell_type": "markdown",
   "metadata": {},
   "source": [
    "#### 6. What's the mean `mpg` of cars of origin `usa`?\n",
    "\n",
    "Remember that we can use the `df_usa` DataFrame just created, which only contains these cars.\n",
    "\n",
    "Store your answer in a variable called `mean_mpg_usa`"
   ]
  },
  {
   "cell_type": "code",
   "execution_count": 8,
   "metadata": {},
   "outputs": [],
   "source": [
    "# Add your code below\n",
    "\n",
    "mean_mpg_usa = df_usa['mpg'].mean()\n",
    "mean_mpg_usa\n"
   ]
  },
  {
   "cell_type": "markdown",
   "metadata": {},
   "source": [
    "#### 7. How many cars of origin `usa` have 8 `cylinders` ?\n",
    "\n",
    "Store your answer in a variable called `eight_cyl_usa`"
   ]
  },
  {
   "cell_type": "code",
   "execution_count": 9,
   "metadata": {},
   "outputs": [],
   "source": [
    "# Add your code below\n",
    "\n",
    "eight_cyl_usa = len(df_usa[df_usa['cylinders'] == 8])\n",
    "eight_cyl_usa\n"
   ]
  },
  {
   "cell_type": "code",
   "execution_count": 10,
   "metadata": {},
   "outputs": [],
   "source": [
    "df.info()"
   ]
  },
  {
   "cell_type": "markdown",
   "metadata": {},
   "source": [
    "We can see from `df.info()` that we have some missing values in the `horsepower` column.\n",
    "\n",
    "#### 8. create a new DataFrame (from the original `df`) which does not contain the rows with a missing value\n",
    "\n",
    "Call the new DataFrame `df_horsepower`"
   ]
  },
  {
   "cell_type": "code",
   "execution_count": 11,
   "metadata": {
    "scrolled": true
   },
   "outputs": [],
   "source": [
    "# Add your code below\n",
    "\n",
    "df_horsepower = df.copy()\n",
    "df_horsepower = df_horsepower[df_horsepower['horsepower'] > 0]\n",
    "df_horsepower.info()\n"
   ]
  },
  {
   "cell_type": "markdown",
   "metadata": {},
   "source": [
    "#### 9. What's the first (or only) mode value for `horsepower` in `df_horsepower`?\n",
    "\n",
    "Store your answer in a variable called `mode_hp`\n",
    "\n",
    "*Hint: i.e. the value found using the `.mode()` method on the given column; note that because there may be more than one mode, the method returns an array. We can access the first value using `[0]`, like we would with a list.*"
   ]
  },
  {
   "cell_type": "code",
   "execution_count": 12,
   "metadata": {},
   "outputs": [],
   "source": [
    "# Add your code below\n",
    "\n",
    "mode_hp = df_horsepower['horsepower'].mode()[0]\n",
    "mode_hp\n"
   ]
  },
  {
   "cell_type": "markdown",
   "metadata": {},
   "source": [
    "#### 10. Create a DataFrame containing only cars with a horsepower greater than or equal to `mode_hp` in `df_horsepower`\n",
    "\n",
    "Call the new DataFrame `df_high_hp`"
   ]
  },
  {
   "cell_type": "code",
   "execution_count": 13,
   "metadata": {},
   "outputs": [],
   "source": [
    "# Add your code below\n",
    "\n",
    "df_high_hp = df_horsepower.copy()\n",
    "df_high_hp = df_high_hp[df_high_hp['horsepower'] >= mode_hp]\n",
    "df_high_hp\n"
   ]
  },
  {
   "cell_type": "markdown",
   "metadata": {},
   "source": [
    "#### 11. What percentage of the cars in `df_high_hp` have 8 `cylinders`?\n",
    "\n",
    "Store your answer in a variable called `percentage_eight_cyl`\n",
    "\n",
    "Your answer should be a float, and should be for example 56.0 rather than 0.56 for 56%."
   ]
  },
  {
   "cell_type": "code",
   "execution_count": 14,
   "metadata": {},
   "outputs": [],
   "source": [
    "# Add your code below\n",
    "\n",
    "percentage_eight_cyl = len(df_high_hp[df_high_hp['cylinders'] == 8]) / len(df_high_hp) * 100\n",
    "percentage_eight_cyl\n"
   ]
  },
  {
   "cell_type": "markdown",
   "metadata": {},
   "source": [
    "## Dataset manipulation"
   ]
  },
  {
   "cell_type": "markdown",
   "metadata": {},
   "source": [
    "We can see from the output below that some car names have more than one entry in the DataFrame:"
   ]
  },
  {
   "cell_type": "code",
   "execution_count": 15,
   "metadata": {},
   "outputs": [],
   "source": [
    "df['name'].value_counts()"
   ]
  },
  {
   "cell_type": "markdown",
   "metadata": {},
   "source": [
    "#### 12. Add a column called  `name_year` to a copy of  `df`, with each entry containing a string in the following format:\n",
    "\n",
    "    name + ' - 19' + model_year\n",
    "\n",
    "So for example, `'chevrolet chevelle malibu - 1970'`\n",
    "\n",
    "Call the new DataFrame `df_name`\n",
    "\n",
    "*Hint: you may find the .astype() method useful*"
   ]
  },
  {
   "cell_type": "code",
   "execution_count": 16,
   "metadata": {},
   "outputs": [],
   "source": [
    "# Add your code below\n",
    "\n",
    "df_name = df.copy()\n",
    "df_name['model_year'] = df_name['model_year'].astype(str)\n",
    "df_name['name_year'] = df_name['name'] + \" - 19\" + df_name['model_year']\n",
    "df_name.head()\n"
   ]
  },
  {
   "cell_type": "markdown",
   "metadata": {},
   "source": [
    "Looking at value_counts() on the `name_year` column, we should now see that there are no duplicated entries:"
   ]
  },
  {
   "cell_type": "code",
   "execution_count": 17,
   "metadata": {},
   "outputs": [],
   "source": [
    "df_name['name_year'].value_counts()"
   ]
  },
  {
   "cell_type": "markdown",
   "metadata": {},
   "source": [
    "#### 13. On a copy of the `df_name` DataFrame, set the index of the DataFrame as the `name_year` column\n",
    "\n",
    "Call you new DataFrame `df_car_index`\n",
    "\n",
    "*Hint: if using the set_index method, either use `inplace=True` or assign the result to a variable, otherwise the new index won't be stored.*"
   ]
  },
  {
   "cell_type": "code",
   "execution_count": 18,
   "metadata": {},
   "outputs": [],
   "source": [
    "# Add your code below\n",
    "\n",
    "df_car_index = df_name.copy()\n",
    "df_car_index = df_car_index.set_index('name_year')\n",
    "df_car_index.head()\n"
   ]
  },
  {
   "cell_type": "markdown",
   "metadata": {},
   "source": [
    "#### 14. Create a function which takes  `name_year` as the only parameter, and returns the `acceleration` for any car in `df_car_index`\n",
    "\n"
   ]
  },
  {
   "cell_type": "code",
   "execution_count": 19,
   "metadata": {},
   "outputs": [],
   "source": [
    "# Add your code below\n",
    "\n",
    "def acceleration(name_year):\n",
    "    return df_car_index.loc[name_year, 'acceleration']\n"
   ]
  },
  {
   "cell_type": "markdown",
   "metadata": {},
   "source": [
    "You can test your function using the following cell:"
   ]
  },
  {
   "cell_type": "code",
   "execution_count": 20,
   "metadata": {},
   "outputs": [],
   "source": [
    "acceleration('ford torino - 1970')"
   ]
  }
 ],
 "metadata": {
  "kernel_info": {
   "name": "python3"
  },
  "kernelspec": {
   "display_name": "Python 3 (ipykernel)",
   "language": "python",
   "name": "python3"
  },
  "language_info": {
   "codemirror_mode": {
    "name": "ipython",
    "version": 3
   },
   "file_extension": ".py",
   "mimetype": "text/x-python",
   "name": "python",
   "nbconvert_exporter": "python",
   "pygments_lexer": "ipython3",
   "version": "3.7.17"
  },
  "nteract": {
   "version": "0.15.0"
  }
 },
 "nbformat": 4,
 "nbformat_minor": 1
}
