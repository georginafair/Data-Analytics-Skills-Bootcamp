{
 "cells": [
  {
   "cell_type": "markdown",
   "metadata": {},
   "source": [
    "# FTSE Market Summary & Portfolio Analysis"
   ]
  },
  {
   "cell_type": "markdown",
   "metadata": {},
   "source": [
    "KATE expects your code to define variables with specific names that correspond to certain things we are interested in.\n",
    "\n",
    "KATE will run your notebook from top to bottom and check the latest value of those variables, so make sure you don't overwrite them.\n",
    "\n",
    "* Remember to uncomment the line assigning the variable to your answer and don't change the variable or function names.\n",
    "* Use copies of the original or previous DataFrames to make sure you do not overwrite them by mistake.\n",
    "\n",
    "You will find instructions below about how to define each variable.\n",
    "\n",
    "Once you're happy with your code, upload your notebook to KATE to check your feedback."
   ]
  },
  {
   "cell_type": "markdown",
   "metadata": {},
   "source": [
    "## About the Dataset\n",
    "\n",
    "In the following section, you will be analysing **The Financial Times Stock Exchange 100 (FTSE 100) Index** data, pronounced, the 'Footsie hundred', is a share index of the 100 companies listed on the London Stock Exchange with the highest market capitalisation. \n",
    "\n",
    "\n",
    "The dataset includes information about:\n",
    "\n",
    "- Company - Name of  the publicly traded company\n",
    "\n",
    "- Ticker - A ticker or stock symbol is an abbreviation used to uniquely identify a stock on a particular stock market\n",
    "\n",
    "- Sector - Industry in which the company operates in\n",
    "\n",
    "- Mid-price (p) - Average between the 'buying' and the 'selling' price of a particular stock\n",
    "\n",
    "- Change - Difference between the current price and the previous day's market price of a particular stock\n",
    "    - A positive change is what allows investors to make a profit.\n",
    "\n",
    "- Our view - View of the analyst or the brokerage firm collected this data\n",
    "\n",
    "- Brokers - Total number of brokerage firms tracking and analysing the stock\n",
    "\n",
    "- 'Strong Buy', 'Buy', 'Neutral', 'Sell', 'Strong Sell' - columns indicates the weighted verdict of all Brokers \n",
    "\n",
    "- Recommendation - Final verdict or recommendation for the stock\n",
    "    - Overweight/Outperform means \"buy\", investors should assign a higher weighting to the stock in portfolios or funds \n",
    "    - Underweight/Underperform means \"sell\" or \"don't buy\" recommendation for a specific stock"
   ]
  },
  {
   "cell_type": "markdown",
   "metadata": {},
   "source": [
    "## Importing Pandas Library"
   ]
  },
  {
   "cell_type": "markdown",
   "metadata": {},
   "source": [
    "Make sure you run the following code cell import Pandas Library before you attempt any of the questions"
   ]
  },
  {
   "cell_type": "code",
   "execution_count": 111,
   "metadata": {
    "inputHidden": false,
    "outputHidden": false
   },
   "outputs": [],
   "source": [
    "import pandas as pd"
   ]
  },
  {
   "cell_type": "markdown",
   "metadata": {},
   "source": [
    "## Importing the dataset"
   ]
  },
  {
   "cell_type": "markdown",
   "metadata": {},
   "source": [
    "First use the `.read_csv()` function to import the file `FTSE100.csv` from the `data` folder, assigning it to `df` DataFrame. \n",
    "\n",
    "After using the `.head()` method to look at the first five rows of the `df` DataFrame. Also, consider using `.info()` method to further explore your data."
   ]
  },
  {
   "cell_type": "code",
   "execution_count": 112,
   "metadata": {},
   "outputs": [],
   "source": [
    "df = pd.read_csv('data/FTSE100.csv')\n",
    "df.head()"
   ]
  },
  {
   "cell_type": "code",
   "execution_count": 113,
   "metadata": {},
   "outputs": [],
   "source": [
    "df.info()"
   ]
  },
  {
   "cell_type": "markdown",
   "metadata": {},
   "source": [
    "## 1. Tidy Data\n",
    "\n",
    "\n",
    "The dataset has a column with only `n/a` values, and also 101 rows (you may have been expecting 100!). This is because one of the companies (Royal Dutch Shell) has two entries. We can get rid of the first instance of these (RDSA).\n",
    "\n",
    "Starting from a copy of `df`, create a new DataFrame called `clean_df` with the following changes:\n",
    "- Drop the row with a `Ticker` value of `RDSA`\n",
    "- Drop the `Strong Buy` column"
   ]
  },
  {
   "cell_type": "code",
   "execution_count": 114,
   "metadata": {
    "inputHidden": false,
    "outputHidden": false
   },
   "outputs": [],
   "source": [
    "#add your code below\n",
    "#Make sure you call your new DataFrame clean_df\n",
    "\n",
    "clean_df = df[df['Ticker'] != 'RDSA'].copy()\n",
    "clean_df = clean_df.drop('Strong Buy', axis='columns')\n",
    "clean_df.head()\n"
   ]
  },
  {
   "cell_type": "markdown",
   "metadata": {},
   "source": [
    "## 2. Change Column Data Type\n",
    "\n",
    "Look at the values in the `Mid-price (p)` column. At first glance they may look like floats but in fact they have been interpreted as text. We need to change them to floats for them to be more useful.\n",
    "\n",
    "Starting from a copy of `clean_df`, create a new DataFrame called  `price_df` with the following change:\n",
    "\n",
    "- Convert the values in the `Mid-price (p)` column to floats (keeping the column in the same place)\n",
    "\n",
    "*Hint: converting directly to a float may not work if there are commas in the strings; you may find the [str.replace](https://docs.python.org/3/library/stdtypes.html#str.replace) method useful for fixing this before conversion.*"
   ]
  },
  {
   "cell_type": "code",
   "execution_count": 115,
   "metadata": {},
   "outputs": [],
   "source": [
    "#add your code below\n",
    "#Make sure you call your new DataFrame price_df\n",
    "\n",
    "price_df = clean_df.copy()\n",
    "price_df['Mid-price (p)'] = price_df['Mid-price (p)'].str.replace(\",\", \"\")\n",
    "price_df['Mid-price (p)'] = price_df['Mid-price (p)'].astype(float)\n",
    "price_df.head()\n"
   ]
  },
  {
   "cell_type": "markdown",
   "metadata": {},
   "source": [
    "## 3. Format Change Values\n",
    "\n",
    "Take a look at the values in the `Change` column. You'll see that they are in an inconsistent format, and stored as strings. The positive values need to be multiplied by 100. The negative values need to have the `%` sign removed.\n",
    "\n",
    "**Part 1:** Create a function called `format_change` which takes a string such as those in the `Change` column and does the following:\n",
    "1. If the last character is a % sign, remove it \n",
    "2. Convert the string to a float\n",
    "3. If that float is posiive, multiply it by 100\n",
    "4. Return the resulting float\n",
    "\n",
    "*Hint: to convert string to a float you may find [float()](https://www.w3schools.com/python/ref_func_float.asp) function useful*"
   ]
  },
  {
   "cell_type": "code",
   "execution_count": 116,
   "metadata": {},
   "outputs": [],
   "source": [
    "#add your code below\n",
    "\n",
    "def format_change(string):\n",
    "    \n",
    "    if string [-1] == \"%\":\n",
    "        result = string.replace(\"%\", \"\") \n",
    "    else:\n",
    "        result = string\n",
    "    result = float(result)\n",
    "    \n",
    "    if result >= 0:\n",
    "        result = result * 100\n",
    "    \n",
    "    return result\n"
   ]
  },
  {
   "cell_type": "markdown",
   "metadata": {},
   "source": [
    "Uncomment and run the following code cell to test that your function works as expected:"
   ]
  },
  {
   "cell_type": "code",
   "execution_count": 117,
   "metadata": {},
   "outputs": [],
   "source": [
    "format_change('0.45%')"
   ]
  },
  {
   "cell_type": "markdown",
   "metadata": {},
   "source": [
    "**Part 2:** Starting from a copy of `price_df`, create a new DataFrame called  `change_df` with a new column called `Change (%)`:\n",
    "\n",
    "- This should contain the result returned from the function created above when given the original `Change` column value as the argument\n",
    "  "
   ]
  },
  {
   "cell_type": "code",
   "execution_count": 118,
   "metadata": {
    "inputHidden": false,
    "outputHidden": false
   },
   "outputs": [],
   "source": [
    "#add your code below\n",
    "#Make sure you call your new DataFrame change_df\n",
    "\n",
    "change_df = price_df\n",
    "change_df['Change (%)'] = change_df['Change'].apply(format_change)\n",
    "change_df\n"
   ]
  },
  {
   "cell_type": "markdown",
   "metadata": {},
   "source": [
    "## 4. Holding Summary\n",
    "\n",
    "You are given the details of a share holding in a tuple, containing the company ticker code, number of shares, and price paid. Make sure you run the following code cell before attempting the question."
   ]
  },
  {
   "cell_type": "code",
   "execution_count": 119,
   "metadata": {},
   "outputs": [],
   "source": [
    "holding = ('BP.', 500, 1535.21)\n",
    "\n",
    "print(holding[0])\n",
    "print(holding[1])\n",
    "print(holding[2])"
   ]
  },
  {
   "cell_type": "markdown",
   "metadata": {},
   "source": [
    "Starting from the `holding` above and `change_df`, build a new dictionary containing the following keys and the appropriate values in the given data formats.\n",
    "\n",
    "```\n",
    "{    \n",
    "    holding_cost: float,    \n",
    "    # The cost (in £, not pence) of the holding (number of shares * price paid)\n",
    "    holding_value: float,    \n",
    "    # The value (in £, not pence) of the holding (number of shares * current mid-price) \n",
    "    change_in_value: float,    \n",
    "    # The percentage change from the original cost of the holding to the current value  \n",
    "    (e.g. if the holding_value is 1.2 * the holding_cost, the change_in_value should equal 20.0)\n",
    "    \n",
    "}\n",
    "```\n",
    "\n",
    "Call this dictionary `holding_dict`\n",
    "\n",
    "\n",
    "*Hint: If you want to get the first item in a series of values (such as a column of a filtered DataFrame), you can use* `.values[0]` *on the column*"
   ]
  },
  {
   "cell_type": "code",
   "execution_count": 120,
   "metadata": {},
   "outputs": [],
   "source": [
    "#add your code below\n",
    "#Make sure you call your new dictionary holding_dict\n",
    "\n",
    "bp_midp = change_df[change_df['Ticker'] == 'BP.']['Mid-price (p)'].values[0]\n",
    "\n",
    "holding_dict = {\n",
    "    'holding_cost' : holding[1] * holding[2] / 100,\n",
    "    'holding_value' : holding[1] * bp_midp / 100,\n",
    "    'change_in_value' : ((bp_midp - holding[2]) / holding[2]) * 100\n",
    "}\n",
    "\n",
    "holding_dict\n"
   ]
  },
  {
   "cell_type": "markdown",
   "metadata": {},
   "source": [
    "## 5. Market Comparison\n",
    "\n",
    "Provided with the DataFrame you processed above, `change_df`, we would like to compare the % change in the mid-price for each company to the average % change for all companies in the market, along with a summary of the broker recommendations."
   ]
  },
  {
   "cell_type": "markdown",
   "metadata": {},
   "source": [
    "Create a DataFrame called `comparison_df` with the following columns added to a copy of `change_df`: \n",
    "\n",
    "- **'Beat Market'** - This should be a Boolean column with `True` for stocks where `Change (%)` exceeds that of the average market change\n",
    "- **'Buy Ratio'** - This should equal the `Buy` column divided by the `Brokers` column\n",
    "\n",
    "*Hint: Calculate the average market change % first then compare each value in the `Change (%)` column to that when creating the new column*"
   ]
  },
  {
   "cell_type": "code",
   "execution_count": 121,
   "metadata": {
    "inputHidden": false,
    "outputHidden": false
   },
   "outputs": [],
   "source": [
    "#add your code below\n",
    "#Make sure you call your new DataFrame comparison_df\n",
    "\n",
    "avg_change = sum(change_df['Change (%)']) / len(change_df['Change (%)'])\n",
    "\n",
    "comparison_df = change_df.copy()\n",
    "comparison_df['Beat Market'] = comparison_df['Change (%)'] > avg_change\n",
    "comparison_df['Buy Ratio'] = comparison_df['Buy'] / comparison_df['Brokers']\n",
    "comparison_df\n"
   ]
  },
  {
   "cell_type": "markdown",
   "metadata": {},
   "source": [
    "## 6. Investigate\n",
    "\n",
    "We want to identify any companies which match a given set of rules, so that we can look into them further.   \n",
    "\n",
    "We want to identify companies in `watchlist` that meet at least one of the following requirements:\n",
    "\n",
    "i) Any company in `watchlist` whose prices is equal to or lower than the given target price.\n",
    "\n",
    "ii) Any company in `watchlist` where `Buy Ratio` is 0.5 or greater.\n",
    "\n",
    "Using the `watchlist` below and `comparison_df` you defined, create a list of companies meeting the requirements, call this list `companies_list`. The list should only have the company names, not the price.\n",
    "\n",
    "Note: **A company meeting both requirements should only appear once in the list**.\n",
    "\n",
    "*Hint: create an empty list to add company names to, using a loop to work through the watchlist. If you want to get the first item in a series of values (such as a column of a filtered DataFrame), you can use* `.values[0]` *on the column.*"
   ]
  },
  {
   "cell_type": "code",
   "execution_count": 122,
   "metadata": {
    "inputHidden": false,
    "outputHidden": false
   },
   "outputs": [],
   "source": [
    "watchlist = [('TUI', 820.0), ('Whitbread', 4300.0), ('AstraZeneca', 7500.0), \n",
    "             ('Standard Chartered', 920.0), ('Barclays', 135.5)]\n",
    "watchlist"
   ]
  },
  {
   "cell_type": "code",
   "execution_count": 129,
   "metadata": {},
   "outputs": [],
   "source": [
    "#add your code below\n",
    "#Make sure you call your new empty list companies_list\n",
    "\n",
    "companies_list = []\n",
    "\n",
    "for company in watchlist:\n",
    "    if company[0] in companies_list:\n",
    "        None\n",
    "    else:\n",
    "        if comparison_df[comparison_df['Company'] == company[0]]['Mid-price (p)'].values[0] <= company[1]:\n",
    "            companies_list.append(company[0])\n",
    "        elif comparison_df[comparison_df['Company'] == company[0]]['Buy Ratio'].values[0] >= 0.5:\n",
    "            companies_list.append(company[0])\n",
    "        else:\n",
    "            None\n",
    "\n",
    "companies_list\n"
   ]
  }
 ],
 "metadata": {
  "kernel_info": {
   "name": "python3"
  },
  "kernelspec": {
   "display_name": "Python 3 (ipykernel)",
   "language": "python",
   "name": "python3"
  },
  "language_info": {
   "codemirror_mode": {
    "name": "ipython",
    "version": 3
   },
   "file_extension": ".py",
   "mimetype": "text/x-python",
   "name": "python",
   "nbconvert_exporter": "python",
   "pygments_lexer": "ipython3",
   "version": "3.7.17"
  },
  "nteract": {
   "version": "0.15.0"
  }
 },
 "nbformat": 4,
 "nbformat_minor": 4
}
